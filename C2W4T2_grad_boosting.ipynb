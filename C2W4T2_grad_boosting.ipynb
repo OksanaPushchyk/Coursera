{
 "cells": [
  {
   "cell_type": "markdown",
   "metadata": {},
   "source": [
    "# Задание по программированию: Градиентный бустинг своими руками"
   ]
  },
  {
   "cell_type": "markdown",
   "metadata": {},
   "source": [
    "Внимание: в тексте задания произошли изменения - поменялось число деревьев (теперь 50), правило изменения величины шага в задании 3 и добавился параметр random_state у решающего дерева. Правильные ответы не поменялись, но теперь их проще получить. Также исправлена опечатка в функции gbm_predict.\n",
    "\n",
    "В этом задании будет использоваться датасет boston из sklearn.datasets. Оставьте последние 25% объектов для контроля качества, разделив X и y на X_train, y_train и X_test, y_test.\n",
    "\n",
    "Целью задания будет реализовать простой вариант градиентного бустинга над регрессионными деревьями для случая квадратичной функции потерь."
   ]
  },
  {
   "cell_type": "code",
   "execution_count": 19,
   "metadata": {},
   "outputs": [],
   "source": [
    "import numpy as np\n",
    "from sklearn import datasets\n",
    "import matplotlib.pyplot as plt\n",
    "%matplotlib inline\n",
    "\n",
    "digits = datasets.load_boston()\n",
    "data = digits.data\n",
    "target = digits.target"
   ]
  },
  {
   "cell_type": "code",
   "execution_count": 23,
   "metadata": {},
   "outputs": [],
   "source": [
    "from sklearn.model_selection import train_test_split\n",
    "\n",
    "n = target.shape[0]\n",
    "ind = round(n * 0.75) - 1\n",
    "\n",
    "X_train = data[:ind, :]\n",
    "X_test = data[ind:, :]\n",
    "y_train = target[:ind]\n",
    "y_test = target[ind:]"
   ]
  },
  {
   "cell_type": "markdown",
   "metadata": {},
   "source": [
    "## Задание 1"
   ]
  },
  {
   "cell_type": "markdown",
   "metadata": {},
   "source": [
    "Как вы уже знаете из лекций, бустинг - это метод построения композиций базовых алгоритмов с помощью последовательного добавления к текущей композиции нового алгоритма с некоторым коэффициентом. Градиентный бустинг обучает каждый новый алгоритм так, чтобы он приближал антиградиент ошибки по ответам композиции на обучающей выборке. Аналогично минимизации функций методом градиентного спуска, в градиентном бустинге мы подправляем композицию, изменяя алгоритм в направлении антиградиента ошибки. Воспользуйтесь формулой из лекций, задающей ответы на обучающей выборке, на которые нужно обучать новый алгоритм (фактически это лишь чуть более подробно расписанный градиент от ошибки), и получите частный ее случай, если функция потерь L - квадрат отклонения ответа композиции a(x) от правильного ответа y на данном x.\n",
    "\n",
    "Если вы давно не считали производную самостоятельно, вам поможет таблица производных элементарных функций (которую несложно найти в интернете) и правило дифференцирования сложной функции. После дифференцирования квадрата у вас возникнет множитель 2 — т.к. нам все равно предстоит выбирать коэффициент, с которым будет добавлен новый базовый алгоритм, проигноируйте этот множитель при дальнейшем построении алгоритма."
   ]
  },
  {
   "cell_type": "code",
   "execution_count": 24,
   "metadata": {},
   "outputs": [],
   "source": [
    "def grad(y, z):\n",
    "    return y - z"
   ]
  },
  {
   "cell_type": "markdown",
   "metadata": {},
   "source": [
    "## Задание 2"
   ]
  },
  {
   "cell_type": "markdown",
   "metadata": {},
   "source": [
    "Заведите массив для объектов DecisionTreeRegressor (будем их использовать в качестве базовых алгоритмов) и для вещественных чисел (это будут коэффициенты перед базовыми алгоритмами). В цикле обучите последовательно 50 решающих деревьев с параметрами max_depth=5 и random_state=42 (остальные параметры - по умолчанию). В бустинге зачастую используются сотни и тысячи деревьев, но мы ограничимся 50, чтобы алгоритм работал быстрее, и его было проще отлаживать (т.к. цель задания разобраться, как работает метод). Каждое дерево должно обучаться на одном и том же множестве объектов, но ответы, которые учится прогнозировать дерево, будут меняться в соответствие с полученным в задании 1 правилом. Попробуйте для начала всегда брать коэффициент равным 0.9. Обычно оправдано выбирать коэффициент значительно меньшим - порядка 0.05 или 0.1, но т.к. в нашем учебном примере на стандартном датасете будет всего 50 деревьев, возьмем для начала шаг побольше.\n",
    "\n",
    "В процессе реализации обучения вам потребуется функция, которая будет вычислять прогноз построенной на данный момент композиции деревьев на выборке X:\n",
    "\n",
    "def gbm_predict(X):\n",
    "    return [sum([coeff * algo.predict([x])[0] for algo, coeff in zip(base_algorithms_list, coefficients_list)]) for x in X]\n",
    "\n",
    "(считаем, что base_algorithms_list - список с базовыми алгоритмами, coefficients_list - список с коэффициентами перед алгоритмами)\n",
    "\n",
    "Эта же функция поможет вам получить прогноз на контрольной выборке и оценить качество работы вашего алгоритма с помощью mean_squared_error в sklearn.metrics. Возведите результат в степень 0.5, чтобы получить RMSE. Полученное значение RMSE — ответ в пункте 2."
   ]
  },
  {
   "cell_type": "code",
   "execution_count": 25,
   "metadata": {},
   "outputs": [],
   "source": [
    "def gbm_predict(X):\n",
    "    return [sum([coeff * algo.predict([x])[0] for algo, coeff in zip(base_algorithms_list, coefficients_list)]) for x in X]"
   ]
  },
  {
   "cell_type": "code",
   "execution_count": 27,
   "metadata": {},
   "outputs": [
    {
     "data": {
      "text/plain": [
       "[4.258124603131531,\n",
       " 4.671153714252575,\n",
       " 4.902307279003964,\n",
       " 4.964147618734462,\n",
       " 5.20526450047539,\n",
       " 5.135565602127196,\n",
       " 5.240746955112687,\n",
       " 5.289270262665005,\n",
       " 5.474743913112658,\n",
       " 5.487351059181247,\n",
       " 5.493005009464344,\n",
       " 5.486541185059441,\n",
       " 5.485319403332965,\n",
       " 5.491142418867942,\n",
       " 5.4234289382521625,\n",
       " 5.455189053902552,\n",
       " 5.453903636946008,\n",
       " 5.442535087357115,\n",
       " 5.451577011033647,\n",
       " 5.450957836386989,\n",
       " 5.455454044759808,\n",
       " 5.452830834182104,\n",
       " 5.4534823020413565,\n",
       " 5.456955189013637,\n",
       " 5.4585969199592395,\n",
       " 5.4597046298350955,\n",
       " 5.458441954443328,\n",
       " 5.459544166421452,\n",
       " 5.474640780590228,\n",
       " 5.455978129276078,\n",
       " 5.456647037889836,\n",
       " 5.456688163206112,\n",
       " 5.45505870311329,\n",
       " 5.45488925048601,\n",
       " 5.454706562939971,\n",
       " 5.45572218652421,\n",
       " 5.4571913656283115,\n",
       " 5.456554727051713,\n",
       " 5.454952037148743,\n",
       " 5.455773037269911,\n",
       " 5.455668105961864,\n",
       " 5.455288876875153,\n",
       " 5.454690240227689,\n",
       " 5.454942493332565,\n",
       " 5.455052873471142,\n",
       " 5.455672101390544,\n",
       " 5.455659629260783,\n",
       " 5.4557296463990905,\n",
       " 5.455680205433288,\n",
       " 5.455565103009402]"
      ]
     },
     "execution_count": 27,
     "metadata": {},
     "output_type": "execute_result"
    }
   ],
   "source": [
    "from sklearn.tree import DecisionTreeRegressor\n",
    "from sklearn.metrics import mean_squared_error\n",
    "\n",
    "base_algorithms_list = []\n",
    "coefficients_list = []\n",
    "error = []\n",
    "\n",
    "for i in range(50):\n",
    "    estimator = DecisionTreeRegressor(max_depth=5, random_state=42)\n",
    "    if i == 0:\n",
    "        estimator.fit(X_train, y_train)\n",
    "    else:\n",
    "        train_prediction = gbm_predict(X_train)\n",
    "        estimator.fit(X_train, grad(y_train, train_prediction))\n",
    "    base_algorithms_list.append(estimator)\n",
    "    coefficients_list.append(0.9)\n",
    "    \n",
    "    prediction = gbm_predict(X_test)\n",
    "    \n",
    "    rmse = np.sqrt(mean_squared_error(y_test, prediction))\n",
    "    error.append(rmse)\n",
    "    \n",
    "del(base_algorithms_list)\n",
    "del(coefficients_list)\n",
    "\n",
    "error"
   ]
  },
  {
   "cell_type": "code",
   "execution_count": 28,
   "metadata": {},
   "outputs": [
    {
     "name": "stdout",
     "output_type": "stream",
     "text": [
      "Done\n"
     ]
    }
   ],
   "source": [
    "with open('grad_boosting_answer2.txt', 'w') as file_out:\n",
    "        file_out.write(str(error[-1]))\n",
    "        print('Done')"
   ]
  },
  {
   "cell_type": "markdown",
   "metadata": {},
   "source": [
    "## Задание 3"
   ]
  },
  {
   "cell_type": "markdown",
   "metadata": {},
   "source": [
    "Вас может также беспокоить, что при движении с постоянным шагом вблизи минимума ошибки ответы на обучающей выборке меняются слишком резко, перескакивая через минимум. Попробуйте уменьшать вес перед каждым алгоритмом с каждой следующей итерацией по формуле 0.9 / (1.0 + i), где i - номер итерации (от 0 до 49). Используйте качество работы алгоритма как ответ в пункте 3. В реальности часто применяется следующая стратегия выбора шага: как только выбран алгоритм, подберем коэффициент перед ним численным методом оптимизации таким образом, чтобы отклонение от правильных ответов было минимальным. Мы не будем предлагать вам реализовать это для выполнения задания, но рекомендуем попробовать разобраться с такой стратегией и реализовать ее при случае для себя."
   ]
  },
  {
   "cell_type": "code",
   "execution_count": 30,
   "metadata": {},
   "outputs": [
    {
     "data": {
      "text/plain": [
       "[4.258124603131531,\n",
       " 4.411594948336074,\n",
       " 4.391183171661546,\n",
       " 4.458775073285299,\n",
       " 4.498661031729782,\n",
       " 4.5168152101676124,\n",
       " 4.550526944390747,\n",
       " 4.609092468715132,\n",
       " 4.6339875745933385,\n",
       " 4.651558505714779,\n",
       " 4.659211687810463,\n",
       " 4.665846192244087,\n",
       " 4.687756339977889,\n",
       " 4.705212386904845,\n",
       " 4.70888638920925,\n",
       " 4.727160820532567,\n",
       " 4.738601041184404,\n",
       " 4.7434294144854805,\n",
       " 4.747957771408691,\n",
       " 4.754535803819599,\n",
       " 4.760702807935853,\n",
       " 4.76469042919606,\n",
       " 4.764828870587975,\n",
       " 4.763080541850576,\n",
       " 4.763091173078234,\n",
       " 4.762268473295419,\n",
       " 4.758055256544697,\n",
       " 4.768499657813316,\n",
       " 4.7718046637409675,\n",
       " 4.780389023483234,\n",
       " 4.7765763172358175,\n",
       " 4.783744654359199,\n",
       " 4.7865280216634964,\n",
       " 4.788442367935862,\n",
       " 4.787212053443569,\n",
       " 4.792422462196972,\n",
       " 4.793468730432272,\n",
       " 4.7994641171508885,\n",
       " 4.804033058481719,\n",
       " 4.8038723728476995,\n",
       " 4.803086837269195,\n",
       " 4.804028978406079,\n",
       " 4.805470455205758,\n",
       " 4.804790977053986,\n",
       " 4.803709717063459,\n",
       " 4.804773448498893,\n",
       " 4.808927271733807,\n",
       " 4.808240835910818,\n",
       " 4.80887898153513,\n",
       " 4.812550945781193]"
      ]
     },
     "execution_count": 30,
     "metadata": {},
     "output_type": "execute_result"
    }
   ],
   "source": [
    "base_algorithms_list = []\n",
    "coefficients_list = []\n",
    "error = []\n",
    "\n",
    "for i in range(50):\n",
    "    estimator = DecisionTreeRegressor(max_depth=5, random_state=42)\n",
    "    if i == 0:\n",
    "        estimator.fit(X_train, y_train)\n",
    "    else:\n",
    "        train_prediction = gbm_predict(X_train)\n",
    "        estimator.fit(X_train, grad(y_train, train_prediction))\n",
    "    base_algorithms_list.append(estimator)\n",
    "    coefficients_list.append((0.9 / (1.0 + i)))\n",
    "    \n",
    "    prediction = gbm_predict(X_test)\n",
    "    \n",
    "    rmse = np.sqrt(mean_squared_error(y_test, prediction))\n",
    "    error.append(rmse)\n",
    "    \n",
    "del(base_algorithms_list)\n",
    "del(coefficients_list)\n",
    "\n",
    "error"
   ]
  },
  {
   "cell_type": "code",
   "execution_count": 31,
   "metadata": {},
   "outputs": [
    {
     "name": "stdout",
     "output_type": "stream",
     "text": [
      "Done\n"
     ]
    }
   ],
   "source": [
    "with open('grad_boosting_answer3.txt', 'w') as file_out:\n",
    "        file_out.write(str(error[-1]))\n",
    "        print('Done')"
   ]
  },
  {
   "cell_type": "markdown",
   "metadata": {},
   "source": [
    "## Задание 4"
   ]
  },
  {
   "cell_type": "markdown",
   "metadata": {},
   "source": [
    "Реализованный вами метод - градиентный бустинг над деревьями - очень популярен в машинном обучении. Он представлен как в самой библиотеке sklearn, так и в сторонней библиотеке XGBoost, которая имеет свой питоновский интерфейс. На практике XGBoost работает заметно лучше GradientBoostingRegressor из sklearn, но для этого задания вы можете использовать любую реализацию. Исследуйте, переобучается ли градиентный бустинг с ростом числа итераций (и подумайте, почему), а также с ростом глубины деревьев. На основе наблюдений выпишите через пробел номера правильных из приведенных ниже утверждений в порядке возрастания номера (это будет ответ в п.4):\n",
    "\n",
    "1) С увеличением числа деревьев, начиная с некоторого момента, качество работы градиентного бустинга не меняется существенно.\n",
    "\n",
    "2) С увеличением числа деревьев, начиная с некоторого момента, градиентный бустинг начинает переобучаться.\n",
    "\n",
    "3) С ростом глубины деревьев, начиная с некоторого момента, качество работы градиентного бустинга на тестовой выборке начинает ухудшаться.\n",
    "\n",
    "4) С ростом глубины деревьев, начиная с некоторого момента, качество работы градиентного бустинга перестает существенно изменяться."
   ]
  },
  {
   "cell_type": "code",
   "execution_count": 33,
   "metadata": {},
   "outputs": [
    {
     "data": {
      "text/plain": [
       "<matplotlib.legend.Legend at 0x2985c884748>"
      ]
     },
     "execution_count": 33,
     "metadata": {},
     "output_type": "execute_result"
    },
    {
     "data": {
      "image/png": "[encoded data removed]",
      "text/plain": [
       "<Figure size 432x288 with 1 Axes>"
      ]
     },
     "metadata": {
      "needs_background": "light"
     },
     "output_type": "display_data"
    }
   ],
   "source": [
    "from sklearn.ensemble import GradientBoostingRegressor\n",
    "\n",
    "trees = np.array([5, 10, 20, 50, 100, 200, 300])\n",
    "depths = np.array([2, 3, 5, 10, 20, 40])\n",
    "\n",
    "plt.figure()\n",
    "\n",
    "error_train = []\n",
    "error_test = []\n",
    "\n",
    "for tree in trees:\n",
    "    estimator = GradientBoostingRegressor(n_estimators=tree, max_depth=5, random_state=42)\n",
    "    estimator.fit(X_train, y_train)\n",
    "    error_train.append(np.sqrt(mean_squared_error(y_train, estimator.predict(X_train))))\n",
    "    error_test.append(np.sqrt(mean_squared_error(y_test, estimator.predict(X_test))))\n",
    "    \n",
    "plt.title(\"Number of trees\")\n",
    "plt.plot(trees, error_train, color=\"red\", label=\"train\")\n",
    "plt.plot(trees, error_test, color=\"blue\", label=\"test\")\n",
    "plt.xlabel(\"trees\")\n",
    "plt.ylabel(\"error\")\n",
    "plt.legend()"
   ]
  },
  {
   "cell_type": "code",
   "execution_count": 35,
   "metadata": {},
   "outputs": [
    {
     "data": {
      "text/plain": [
       "<matplotlib.legend.Legend at 0x2985ca97708>"
      ]
     },
     "execution_count": 35,
     "metadata": {},
     "output_type": "execute_result"
    },
    {
     "data": {
      "image/png": "[encoded data removed]",
      "text/plain": [
       "<Figure size 432x288 with 1 Axes>"
      ]
     },
     "metadata": {
      "needs_background": "light"
     },
     "output_type": "display_data"
    }
   ],
   "source": [
    "trees = np.array([5, 10, 20, 50, 100, 200, 300])\n",
    "depths = np.array([2, 3, 5, 10, 20, 40])\n",
    "\n",
    "plt.figure()\n",
    "\n",
    "error_train = []\n",
    "error_test = []\n",
    "\n",
    "for depth in depths:\n",
    "    estimator = GradientBoostingRegressor(n_estimators=50, max_depth=depth, random_state=42)\n",
    "    estimator.fit(X_train, y_train)\n",
    "    error_train.append(np.sqrt(mean_squared_error(y_train, estimator.predict(X_train))))\n",
    "    error_test.append(np.sqrt(mean_squared_error(y_test, estimator.predict(X_test))))\n",
    "    \n",
    "plt.title(\"Max_depth\")\n",
    "plt.plot(depths, error_train, color=\"red\", label=\"train\")\n",
    "plt.plot(depths, error_test, color=\"blue\", label=\"test\")\n",
    "plt.xlabel(\"depths\")\n",
    "plt.ylabel(\"error\")\n",
    "plt.legend()"
   ]
  },
  {
   "cell_type": "code",
   "execution_count": 36,
   "metadata": {},
   "outputs": [
    {
     "name": "stdout",
     "output_type": "stream",
     "text": [
      "Done\n"
     ]
    }
   ],
   "source": [
    "with open('grad_boosting_answer4.txt', 'w') as file_out:\n",
    "        file_out.write(str(2) + ' ' + str(3))\n",
    "        print('Done')"
   ]
  },
  {
   "cell_type": "markdown",
   "metadata": {},
   "source": [
    "## Задание 5"
   ]
  },
  {
   "cell_type": "markdown",
   "metadata": {},
   "source": [
    "Сравните получаемое с помощью градиентного бустинга качество с качеством работы линейной регрессии. Для этого обучите LinearRegression из sklearn.linear_model (с параметрами по умолчанию) на обучающей выборке и оцените для прогнозов полученного алгоритма на тестовой выборке RMSE. Полученное качество - ответ в пункте 5. В данном примере качество работы простой модели должно было оказаться хуже, но не стоит забывать, что так бывает не всегда. В заданиях к этому курсу вы еще встретите пример обратной ситуации."
   ]
  },
  {
   "cell_type": "code",
   "execution_count": 37,
   "metadata": {},
   "outputs": [
    {
     "data": {
      "text/plain": [
       "8.254979753549161"
      ]
     },
     "execution_count": 37,
     "metadata": {},
     "output_type": "execute_result"
    }
   ],
   "source": [
    "from sklearn.linear_model import LinearRegression \n",
    "\n",
    "estimator = LinearRegression()\n",
    "estimator.fit(X_train, y_train)\n",
    "prediction = estimator.predict(X_test)\n",
    "rmse = np.sqrt(mean_squared_error(y_test, prediction))\n",
    "rmse"
   ]
  },
  {
   "cell_type": "code",
   "execution_count": 38,
   "metadata": {},
   "outputs": [
    {
     "name": "stdout",
     "output_type": "stream",
     "text": [
      "Done\n"
     ]
    }
   ],
   "source": [
    "with open('grad_boosting_answer5.txt', 'w') as file_out:\n",
    "        file_out.write(str(rmse))\n",
    "        print('Done')"
   ]
  }
 ],
 "metadata": {
  "kernelspec": {
   "display_name": "Python 3",
   "language": "python",
   "name": "python3"
  },
  "language_info": {
   "codemirror_mode": {
    "name": "ipython",
    "version": 3
   },
   "file_extension": ".py",
   "mimetype": "text/x-python",
   "name": "python",
   "nbconvert_exporter": "python",
   "pygments_lexer": "ipython3",
   "version": "3.7.6"
  }
 },
 "nbformat": 4,
 "nbformat_minor": 4
}
